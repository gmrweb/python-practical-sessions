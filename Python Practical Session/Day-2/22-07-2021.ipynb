{
 "cells": [
  {
   "cell_type": "markdown",
   "metadata": {},
   "source": [
    "# Python Practical Session - 22/07/2021"
   ]
  },
  {
   "cell_type": "markdown",
   "metadata": {},
   "source": [
    "## Importing required libraries"
   ]
  },
  {
   "cell_type": "code",
   "execution_count": 2,
   "metadata": {},
   "outputs": [],
   "source": [
    "import pandas as pd\n",
    "import os"
   ]
  },
  {
   "cell_type": "markdown",
   "metadata": {},
   "source": [
    "## Merging all files into one file"
   ]
  },
  {
   "cell_type": "code",
   "execution_count": 3,
   "metadata": {},
   "outputs": [
    {
     "name": "stdout",
     "output_type": "stream",
     "text": [
      "lbhf_spend_data_q3_2019_20_0 (1).xlsx\n",
      "spend_data_jan-mar_2020_0.xlsx\n",
      "spend_data_q1_2019-20_0.xlsx\n",
      "spend_data_q2_2019-20_0.xlsx\n"
     ]
    }
   ],
   "source": [
    "files = [file for file in os.listdir('./Data')]\n",
    "for file in files:\n",
    "    print(file)"
   ]
  },
  {
   "cell_type": "code",
   "execution_count": 5,
   "metadata": {},
   "outputs": [],
   "source": [
    "all_data = pd.DataFrame()\n",
    "\n",
    "for file in files:\n",
    "    df = pd.read_excel('./Data/'+file)\n",
    "    all_data = pd.concat([all_data,df])\n",
    "\n",
    "all_data.to_csv('all_data.csv',index=False)"
   ]
  },
  {
   "cell_type": "markdown",
   "metadata": {},
   "source": [
    "## Reading the merged file"
   ]
  },
  {
   "cell_type": "code",
   "execution_count": 6,
   "metadata": {},
   "outputs": [
    {
     "name": "stderr",
     "output_type": "stream",
     "text": [
      "C:\\Users\\Gatla Mahesh Reddy\\anaconda3\\lib\\site-packages\\IPython\\core\\interactiveshell.py:3146: DtypeWarning: Columns (1) have mixed types.Specify dtype option on import or set low_memory=False.\n",
      "  has_raised = await self.run_ast_nodes(code_ast.body, cell_name,\n"
     ]
    },
    {
     "data": {
      "text/html": [
       "<div>\n",
       "<style scoped>\n",
       "    .dataframe tbody tr th:only-of-type {\n",
       "        vertical-align: middle;\n",
       "    }\n",
       "\n",
       "    .dataframe tbody tr th {\n",
       "        vertical-align: top;\n",
       "    }\n",
       "\n",
       "    .dataframe thead th {\n",
       "        text-align: right;\n",
       "    }\n",
       "</style>\n",
       "<table border=\"1\" class=\"dataframe\">\n",
       "  <thead>\n",
       "    <tr style=\"text-align: right;\">\n",
       "      <th></th>\n",
       "      <th>Organisation</th>\n",
       "      <th>Vendor No</th>\n",
       "      <th>Supplier Name</th>\n",
       "      <th>Document Number</th>\n",
       "      <th>Payment Date</th>\n",
       "      <th>Invoice Date</th>\n",
       "      <th>Cost Centre</th>\n",
       "      <th>Cost Centre Description</th>\n",
       "      <th>GL Account description</th>\n",
       "      <th>GL Account Code</th>\n",
       "      <th>Amount (D/C)</th>\n",
       "    </tr>\n",
       "  </thead>\n",
       "  <tbody>\n",
       "    <tr>\n",
       "      <th>0</th>\n",
       "      <td>LBHF</td>\n",
       "      <td>1.23814e+06</td>\n",
       "      <td>Greenham Trading Ltd</td>\n",
       "      <td>2200033380</td>\n",
       "      <td>2019-10-01 00:00:00</td>\n",
       "      <td>2019-06-11</td>\n",
       "      <td>H78340</td>\n",
       "      <td>Health and Safety</td>\n",
       "      <td>Stationery</td>\n",
       "      <td>4706</td>\n",
       "      <td>65.47</td>\n",
       "    </tr>\n",
       "    <tr>\n",
       "      <th>1</th>\n",
       "      <td>LBHF</td>\n",
       "      <td>1.24299e+06</td>\n",
       "      <td>Cavendish Construction Ltd</td>\n",
       "      <td>2200033385</td>\n",
       "      <td>2019-10-01 00:00:00</td>\n",
       "      <td>2019-08-06</td>\n",
       "      <td>H78255</td>\n",
       "      <td>Repairs and Maintenance</td>\n",
       "      <td>Plan R&amp;M-Rep &amp; Maint</td>\n",
       "      <td>3702</td>\n",
       "      <td>1460.00</td>\n",
       "    </tr>\n",
       "    <tr>\n",
       "      <th>2</th>\n",
       "      <td>LBHF</td>\n",
       "      <td>1.24299e+06</td>\n",
       "      <td>Cavendish Construction Ltd</td>\n",
       "      <td>2200033379</td>\n",
       "      <td>2019-10-01 00:00:00</td>\n",
       "      <td>2019-08-21</td>\n",
       "      <td>H78255</td>\n",
       "      <td>Repairs and Maintenance</td>\n",
       "      <td>Plan R&amp;M-Rep &amp; Maint</td>\n",
       "      <td>3702</td>\n",
       "      <td>977.90</td>\n",
       "    </tr>\n",
       "    <tr>\n",
       "      <th>3</th>\n",
       "      <td>LBHF</td>\n",
       "      <td>1.25856e+06</td>\n",
       "      <td>RCKa Limited</td>\n",
       "      <td>2200033426</td>\n",
       "      <td>2019-10-01 00:00:00</td>\n",
       "      <td>2019-08-28</td>\n",
       "      <td>H28139</td>\n",
       "      <td>Nourish</td>\n",
       "      <td>E12:Bldng Maint&amp;Impr</td>\n",
       "      <td>7921</td>\n",
       "      <td>8015.00</td>\n",
       "    </tr>\n",
       "    <tr>\n",
       "      <th>4</th>\n",
       "      <td>LBHF</td>\n",
       "      <td>1.23772e+06</td>\n",
       "      <td>Askews &amp; Holts Library Service</td>\n",
       "      <td>3110058122</td>\n",
       "      <td>2019-10-01 00:00:00</td>\n",
       "      <td>2019-09-04</td>\n",
       "      <td>H26315</td>\n",
       "      <td>Libraries Content &amp; Resources</td>\n",
       "      <td>Books, DVDs and CDs</td>\n",
       "      <td>4539</td>\n",
       "      <td>110.38</td>\n",
       "    </tr>\n",
       "  </tbody>\n",
       "</table>\n",
       "</div>"
      ],
      "text/plain": [
       "  Organisation    Vendor No                   Supplier Name  Document Number  \\\n",
       "0         LBHF  1.23814e+06            Greenham Trading Ltd       2200033380   \n",
       "1         LBHF  1.24299e+06      Cavendish Construction Ltd       2200033385   \n",
       "2         LBHF  1.24299e+06      Cavendish Construction Ltd       2200033379   \n",
       "3         LBHF  1.25856e+06                    RCKa Limited       2200033426   \n",
       "4         LBHF  1.23772e+06  Askews & Holts Library Service       3110058122   \n",
       "\n",
       "          Payment Date Invoice Date Cost Centre  \\\n",
       "0  2019-10-01 00:00:00   2019-06-11      H78340   \n",
       "1  2019-10-01 00:00:00   2019-08-06      H78255   \n",
       "2  2019-10-01 00:00:00   2019-08-21      H78255   \n",
       "3  2019-10-01 00:00:00   2019-08-28      H28139   \n",
       "4  2019-10-01 00:00:00   2019-09-04      H26315   \n",
       "\n",
       "         Cost Centre Description GL Account description  GL Account Code  \\\n",
       "0              Health and Safety             Stationery             4706   \n",
       "1        Repairs and Maintenance   Plan R&M-Rep & Maint             3702   \n",
       "2        Repairs and Maintenance   Plan R&M-Rep & Maint             3702   \n",
       "3                        Nourish   E12:Bldng Maint&Impr             7921   \n",
       "4  Libraries Content & Resources    Books, DVDs and CDs             4539   \n",
       "\n",
       "   Amount (D/C)  \n",
       "0         65.47  \n",
       "1       1460.00  \n",
       "2        977.90  \n",
       "3       8015.00  \n",
       "4        110.38  "
      ]
     },
     "execution_count": 6,
     "metadata": {},
     "output_type": "execute_result"
    }
   ],
   "source": [
    "data = pd.read_csv('all_data.csv')\n",
    "data.head()"
   ]
  },
  {
   "cell_type": "code",
   "execution_count": 7,
   "metadata": {},
   "outputs": [
    {
     "data": {
      "text/plain": [
       "Organisation                object\n",
       "Vendor No                   object\n",
       "Supplier Name               object\n",
       "Document Number              int64\n",
       "Payment Date                object\n",
       "Invoice Date                object\n",
       "Cost Centre                 object\n",
       "Cost Centre Description     object\n",
       "GL Account description      object\n",
       "GL Account Code              int64\n",
       "Amount (D/C)               float64\n",
       "dtype: object"
      ]
     },
     "execution_count": 7,
     "metadata": {},
     "output_type": "execute_result"
    }
   ],
   "source": [
    "data.dtypes"
   ]
  },
  {
   "cell_type": "code",
   "execution_count": 8,
   "metadata": {},
   "outputs": [
    {
     "name": "stdout",
     "output_type": "stream",
     "text": [
      "<class 'pandas.core.frame.DataFrame'>\n",
      "RangeIndex: 108417 entries, 0 to 108416\n",
      "Data columns (total 11 columns):\n",
      " #   Column                   Non-Null Count   Dtype  \n",
      "---  ------                   --------------   -----  \n",
      " 0   Organisation             108417 non-null  object \n",
      " 1   Vendor No                108406 non-null  object \n",
      " 2   Supplier Name            108406 non-null  object \n",
      " 3   Document Number          108417 non-null  int64  \n",
      " 4   Payment Date             108417 non-null  object \n",
      " 5   Invoice Date             108417 non-null  object \n",
      " 6   Cost Centre              108404 non-null  object \n",
      " 7   Cost Centre Description  108403 non-null  object \n",
      " 8   GL Account description   108417 non-null  object \n",
      " 9   GL Account Code          108417 non-null  int64  \n",
      " 10  Amount (D/C)             108417 non-null  float64\n",
      "dtypes: float64(1), int64(2), object(8)\n",
      "memory usage: 9.1+ MB\n"
     ]
    }
   ],
   "source": [
    "data.info()"
   ]
  },
  {
   "cell_type": "code",
   "execution_count": 12,
   "metadata": {},
   "outputs": [
    {
     "data": {
      "text/plain": [
       "(108417, 11)"
      ]
     },
     "execution_count": 12,
     "metadata": {},
     "output_type": "execute_result"
    }
   ],
   "source": [
    "data.shape"
   ]
  },
  {
   "cell_type": "code",
   "execution_count": 13,
   "metadata": {},
   "outputs": [
    {
     "data": {
      "text/html": [
       "<div>\n",
       "<style scoped>\n",
       "    .dataframe tbody tr th:only-of-type {\n",
       "        vertical-align: middle;\n",
       "    }\n",
       "\n",
       "    .dataframe tbody tr th {\n",
       "        vertical-align: top;\n",
       "    }\n",
       "\n",
       "    .dataframe thead th {\n",
       "        text-align: right;\n",
       "    }\n",
       "</style>\n",
       "<table border=\"1\" class=\"dataframe\">\n",
       "  <thead>\n",
       "    <tr style=\"text-align: right;\">\n",
       "      <th></th>\n",
       "      <th>Organisation</th>\n",
       "      <th>Vendor No</th>\n",
       "      <th>Supplier Name</th>\n",
       "      <th>Document Number</th>\n",
       "      <th>Payment Date</th>\n",
       "      <th>Invoice Date</th>\n",
       "      <th>Cost Centre</th>\n",
       "      <th>Cost Centre Description</th>\n",
       "      <th>GL Account description</th>\n",
       "      <th>GL Account Code</th>\n",
       "      <th>Amount (D/C)</th>\n",
       "    </tr>\n",
       "  </thead>\n",
       "  <tbody>\n",
       "    <tr>\n",
       "      <th>2476</th>\n",
       "      <td>LBHF</td>\n",
       "      <td>NaN</td>\n",
       "      <td>NaN</td>\n",
       "      <td>2200034678</td>\n",
       "      <td>2019-10-14 00:00:00</td>\n",
       "      <td>2019-10-10</td>\n",
       "      <td>NaN</td>\n",
       "      <td>NaN</td>\n",
       "      <td>Catering</td>\n",
       "      <td>4665</td>\n",
       "      <td>205.00</td>\n",
       "    </tr>\n",
       "    <tr>\n",
       "      <th>4792</th>\n",
       "      <td>LBHF</td>\n",
       "      <td>NaN</td>\n",
       "      <td>NaN</td>\n",
       "      <td>2200034968</td>\n",
       "      <td>2019-10-16 00:00:00</td>\n",
       "      <td>2019-10-15</td>\n",
       "      <td>NaN</td>\n",
       "      <td>NaN</td>\n",
       "      <td>Training Expenses</td>\n",
       "      <td>3105</td>\n",
       "      <td>269.00</td>\n",
       "    </tr>\n",
       "    <tr>\n",
       "      <th>4793</th>\n",
       "      <td>LBHF</td>\n",
       "      <td>NaN</td>\n",
       "      <td>NaN</td>\n",
       "      <td>2200034970</td>\n",
       "      <td>2019-10-16 00:00:00</td>\n",
       "      <td>2019-10-15</td>\n",
       "      <td>NaN</td>\n",
       "      <td>NaN</td>\n",
       "      <td>Training Expenses</td>\n",
       "      <td>3105</td>\n",
       "      <td>99.00</td>\n",
       "    </tr>\n",
       "    <tr>\n",
       "      <th>8396</th>\n",
       "      <td>LBHF</td>\n",
       "      <td>NaN</td>\n",
       "      <td>NaN</td>\n",
       "      <td>2200036631</td>\n",
       "      <td>2019-10-30 00:00:00</td>\n",
       "      <td>2019-10-29</td>\n",
       "      <td>NaN</td>\n",
       "      <td>NaN</td>\n",
       "      <td>Catering</td>\n",
       "      <td>4665</td>\n",
       "      <td>160.00</td>\n",
       "    </tr>\n",
       "    <tr>\n",
       "      <th>8397</th>\n",
       "      <td>LBHF</td>\n",
       "      <td>NaN</td>\n",
       "      <td>NaN</td>\n",
       "      <td>2200036632</td>\n",
       "      <td>2019-10-30 00:00:00</td>\n",
       "      <td>2019-10-29</td>\n",
       "      <td>NaN</td>\n",
       "      <td>NaN</td>\n",
       "      <td>Catering</td>\n",
       "      <td>4665</td>\n",
       "      <td>240.00</td>\n",
       "    </tr>\n",
       "    <tr>\n",
       "      <th>8398</th>\n",
       "      <td>LBHF</td>\n",
       "      <td>NaN</td>\n",
       "      <td>NaN</td>\n",
       "      <td>2200036633</td>\n",
       "      <td>2019-10-30 00:00:00</td>\n",
       "      <td>2019-10-29</td>\n",
       "      <td>NaN</td>\n",
       "      <td>NaN</td>\n",
       "      <td>Catering</td>\n",
       "      <td>4665</td>\n",
       "      <td>265.00</td>\n",
       "    </tr>\n",
       "    <tr>\n",
       "      <th>19740</th>\n",
       "      <td>LBHF</td>\n",
       "      <td>1.24248e+06</td>\n",
       "      <td>Abu Zaad Ltd T/A Abu Zaad</td>\n",
       "      <td>2200041725</td>\n",
       "      <td>2019-12-10 00:00:00</td>\n",
       "      <td>2019-12-10</td>\n",
       "      <td>NaN</td>\n",
       "      <td>NaN</td>\n",
       "      <td>Catering</td>\n",
       "      <td>4665</td>\n",
       "      <td>200.00</td>\n",
       "    </tr>\n",
       "    <tr>\n",
       "      <th>23406</th>\n",
       "      <td>LBHF</td>\n",
       "      <td>NaN</td>\n",
       "      <td>NaN</td>\n",
       "      <td>2200042619</td>\n",
       "      <td>2019-12-17 00:00:00</td>\n",
       "      <td>2019-12-16</td>\n",
       "      <td>NaN</td>\n",
       "      <td>NaN</td>\n",
       "      <td>Activities &amp; Events</td>\n",
       "      <td>4800</td>\n",
       "      <td>750.00</td>\n",
       "    </tr>\n",
       "    <tr>\n",
       "      <th>23407</th>\n",
       "      <td>LBHF</td>\n",
       "      <td>NaN</td>\n",
       "      <td>NaN</td>\n",
       "      <td>2200042620</td>\n",
       "      <td>2019-12-17 00:00:00</td>\n",
       "      <td>2019-12-16</td>\n",
       "      <td>NaN</td>\n",
       "      <td>NaN</td>\n",
       "      <td>Activities &amp; Events</td>\n",
       "      <td>4800</td>\n",
       "      <td>1390.00</td>\n",
       "    </tr>\n",
       "    <tr>\n",
       "      <th>23501</th>\n",
       "      <td>LBHF</td>\n",
       "      <td>NaN</td>\n",
       "      <td>NaN</td>\n",
       "      <td>2200042652</td>\n",
       "      <td>2019-12-17 00:00:00</td>\n",
       "      <td>2019-12-17</td>\n",
       "      <td>NaN</td>\n",
       "      <td>NaN</td>\n",
       "      <td>Training Expenses</td>\n",
       "      <td>3105</td>\n",
       "      <td>4500.00</td>\n",
       "    </tr>\n",
       "    <tr>\n",
       "      <th>24653</th>\n",
       "      <td>LBHF</td>\n",
       "      <td>1.24248e+06</td>\n",
       "      <td>Abu Zaad Ltd T/A Abu Zaad</td>\n",
       "      <td>2200043046</td>\n",
       "      <td>2019-12-20 00:00:00</td>\n",
       "      <td>2019-12-18</td>\n",
       "      <td>NaN</td>\n",
       "      <td>NaN</td>\n",
       "      <td>Catering</td>\n",
       "      <td>4665</td>\n",
       "      <td>300.00</td>\n",
       "    </tr>\n",
       "    <tr>\n",
       "      <th>25111</th>\n",
       "      <td>LBHF</td>\n",
       "      <td>NaN</td>\n",
       "      <td>NaN</td>\n",
       "      <td>2200043449</td>\n",
       "      <td>2019-12-30 00:00:00</td>\n",
       "      <td>2019-12-19</td>\n",
       "      <td>NaN</td>\n",
       "      <td>NaN</td>\n",
       "      <td>Training Expenses</td>\n",
       "      <td>3105</td>\n",
       "      <td>580.00</td>\n",
       "    </tr>\n",
       "    <tr>\n",
       "      <th>25157</th>\n",
       "      <td>LBHF</td>\n",
       "      <td>NaN</td>\n",
       "      <td>NaN</td>\n",
       "      <td>2200043448</td>\n",
       "      <td>2019-12-30 00:00:00</td>\n",
       "      <td>2019-12-24</td>\n",
       "      <td>NaN</td>\n",
       "      <td>NaN</td>\n",
       "      <td>Activities &amp; Events</td>\n",
       "      <td>4800</td>\n",
       "      <td>2375.00</td>\n",
       "    </tr>\n",
       "    <tr>\n",
       "      <th>25463</th>\n",
       "      <td>LBHF</td>\n",
       "      <td>1.23725e+06</td>\n",
       "      <td>2 Care UK Ltd</td>\n",
       "      <td>3110081046</td>\n",
       "      <td>2020-01-27 00:00:00</td>\n",
       "      <td>2020-01-20</td>\n",
       "      <td>H21710</td>\n",
       "      <td>NaN</td>\n",
       "      <td>OE-Supp Living-Adult</td>\n",
       "      <td>5688</td>\n",
       "      <td>1960.49</td>\n",
       "    </tr>\n",
       "  </tbody>\n",
       "</table>\n",
       "</div>"
      ],
      "text/plain": [
       "      Organisation    Vendor No              Supplier Name  Document Number  \\\n",
       "2476          LBHF          NaN                        NaN       2200034678   \n",
       "4792          LBHF          NaN                        NaN       2200034968   \n",
       "4793          LBHF          NaN                        NaN       2200034970   \n",
       "8396          LBHF          NaN                        NaN       2200036631   \n",
       "8397          LBHF          NaN                        NaN       2200036632   \n",
       "8398          LBHF          NaN                        NaN       2200036633   \n",
       "19740         LBHF  1.24248e+06  Abu Zaad Ltd T/A Abu Zaad       2200041725   \n",
       "23406         LBHF          NaN                        NaN       2200042619   \n",
       "23407         LBHF          NaN                        NaN       2200042620   \n",
       "23501         LBHF          NaN                        NaN       2200042652   \n",
       "24653         LBHF  1.24248e+06  Abu Zaad Ltd T/A Abu Zaad       2200043046   \n",
       "25111         LBHF          NaN                        NaN       2200043449   \n",
       "25157         LBHF          NaN                        NaN       2200043448   \n",
       "25463         LBHF  1.23725e+06              2 Care UK Ltd       3110081046   \n",
       "\n",
       "              Payment Date Invoice Date Cost Centre Cost Centre Description  \\\n",
       "2476   2019-10-14 00:00:00   2019-10-10         NaN                     NaN   \n",
       "4792   2019-10-16 00:00:00   2019-10-15         NaN                     NaN   \n",
       "4793   2019-10-16 00:00:00   2019-10-15         NaN                     NaN   \n",
       "8396   2019-10-30 00:00:00   2019-10-29         NaN                     NaN   \n",
       "8397   2019-10-30 00:00:00   2019-10-29         NaN                     NaN   \n",
       "8398   2019-10-30 00:00:00   2019-10-29         NaN                     NaN   \n",
       "19740  2019-12-10 00:00:00   2019-12-10         NaN                     NaN   \n",
       "23406  2019-12-17 00:00:00   2019-12-16         NaN                     NaN   \n",
       "23407  2019-12-17 00:00:00   2019-12-16         NaN                     NaN   \n",
       "23501  2019-12-17 00:00:00   2019-12-17         NaN                     NaN   \n",
       "24653  2019-12-20 00:00:00   2019-12-18         NaN                     NaN   \n",
       "25111  2019-12-30 00:00:00   2019-12-19         NaN                     NaN   \n",
       "25157  2019-12-30 00:00:00   2019-12-24         NaN                     NaN   \n",
       "25463  2020-01-27 00:00:00   2020-01-20      H21710                     NaN   \n",
       "\n",
       "      GL Account description  GL Account Code  Amount (D/C)  \n",
       "2476                Catering             4665        205.00  \n",
       "4792       Training Expenses             3105        269.00  \n",
       "4793       Training Expenses             3105         99.00  \n",
       "8396                Catering             4665        160.00  \n",
       "8397                Catering             4665        240.00  \n",
       "8398                Catering             4665        265.00  \n",
       "19740               Catering             4665        200.00  \n",
       "23406    Activities & Events             4800        750.00  \n",
       "23407    Activities & Events             4800       1390.00  \n",
       "23501      Training Expenses             3105       4500.00  \n",
       "24653               Catering             4665        300.00  \n",
       "25111      Training Expenses             3105        580.00  \n",
       "25157    Activities & Events             4800       2375.00  \n",
       "25463   OE-Supp Living-Adult             5688       1960.49  "
      ]
     },
     "execution_count": 13,
     "metadata": {},
     "output_type": "execute_result"
    }
   ],
   "source": [
    "nan_df = data[data.isna().any(axis=1)]\n",
    "nan_df"
   ]
  },
  {
   "cell_type": "code",
   "execution_count": 14,
   "metadata": {},
   "outputs": [],
   "source": [
    "data = data.dropna(how='any')"
   ]
  },
  {
   "cell_type": "code",
   "execution_count": 18,
   "metadata": {},
   "outputs": [
    {
     "data": {
      "text/html": [
       "<div>\n",
       "<style scoped>\n",
       "    .dataframe tbody tr th:only-of-type {\n",
       "        vertical-align: middle;\n",
       "    }\n",
       "\n",
       "    .dataframe tbody tr th {\n",
       "        vertical-align: top;\n",
       "    }\n",
       "\n",
       "    .dataframe thead th {\n",
       "        text-align: right;\n",
       "    }\n",
       "</style>\n",
       "<table border=\"1\" class=\"dataframe\">\n",
       "  <thead>\n",
       "    <tr style=\"text-align: right;\">\n",
       "      <th></th>\n",
       "      <th>Organisation</th>\n",
       "      <th>Vendor No</th>\n",
       "      <th>Supplier Name</th>\n",
       "      <th>Document Number</th>\n",
       "      <th>Payment Date</th>\n",
       "      <th>Invoice Date</th>\n",
       "      <th>Cost Centre</th>\n",
       "      <th>Cost Centre Description</th>\n",
       "      <th>GL Account description</th>\n",
       "      <th>GL Account Code</th>\n",
       "      <th>Amount (D/C)</th>\n",
       "    </tr>\n",
       "  </thead>\n",
       "  <tbody>\n",
       "  </tbody>\n",
       "</table>\n",
       "</div>"
      ],
      "text/plain": [
       "Empty DataFrame\n",
       "Columns: [Organisation, Vendor No, Supplier Name, Document Number, Payment Date, Invoice Date, Cost Centre, Cost Centre Description, GL Account description, GL Account Code, Amount (D/C)]\n",
       "Index: []"
      ]
     },
     "execution_count": 18,
     "metadata": {},
     "output_type": "execute_result"
    }
   ],
   "source": [
    "temp_df = data[data['Payment Date']=='#']\n",
    "temp_df.head()"
   ]
  },
  {
   "cell_type": "code",
   "execution_count": 17,
   "metadata": {},
   "outputs": [],
   "source": [
    "data = data[data['Payment Date']!='#']"
   ]
  },
  {
   "cell_type": "code",
   "execution_count": 19,
   "metadata": {},
   "outputs": [],
   "source": [
    "data['Payment Date'] = pd.to_datetime(data['Payment Date'])\n",
    "data['Invoice Date'] = pd.to_datetime(data['Invoice Date'])"
   ]
  },
  {
   "cell_type": "code",
   "execution_count": 20,
   "metadata": {},
   "outputs": [],
   "source": [
    "data['Document Number']=data['Document Number'].astype('str')\n",
    "data['Vendor No'] = data['Vendor No'].astype('str')"
   ]
  },
  {
   "cell_type": "markdown",
   "metadata": {},
   "source": [
    "## Define functions to extract year and quarter from the dates"
   ]
  },
  {
   "cell_type": "code",
   "execution_count": 22,
   "metadata": {},
   "outputs": [],
   "source": [
    "def get_payment_year(x):\n",
    "    return x.year\n",
    "\n",
    "def get_payment_quarter(y):\n",
    "    return y.quarter\n",
    "\n",
    "def get_Q(x):\n",
    "    return 'Q'\n"
   ]
  },
  {
   "cell_type": "code",
   "execution_count": 33,
   "metadata": {},
   "outputs": [
    {
     "data": {
      "text/html": [
       "<div>\n",
       "<style scoped>\n",
       "    .dataframe tbody tr th:only-of-type {\n",
       "        vertical-align: middle;\n",
       "    }\n",
       "\n",
       "    .dataframe tbody tr th {\n",
       "        vertical-align: top;\n",
       "    }\n",
       "\n",
       "    .dataframe thead th {\n",
       "        text-align: right;\n",
       "    }\n",
       "</style>\n",
       "<table border=\"1\" class=\"dataframe\">\n",
       "  <thead>\n",
       "    <tr style=\"text-align: right;\">\n",
       "      <th></th>\n",
       "      <th>Organisation</th>\n",
       "      <th>Vendor No</th>\n",
       "      <th>Supplier Name</th>\n",
       "      <th>Document Number</th>\n",
       "      <th>Payment Date</th>\n",
       "      <th>Invoice Date</th>\n",
       "      <th>Cost Centre</th>\n",
       "      <th>Cost Centre Description</th>\n",
       "      <th>GL Account description</th>\n",
       "      <th>GL Account Code</th>\n",
       "      <th>Amount (D/C)</th>\n",
       "      <th>Payment Quarter</th>\n",
       "      <th>Invoice Quarte</th>\n",
       "      <th>Invoice Quarter</th>\n",
       "    </tr>\n",
       "  </thead>\n",
       "  <tbody>\n",
       "    <tr>\n",
       "      <th>0</th>\n",
       "      <td>LBHF</td>\n",
       "      <td>1238143.0</td>\n",
       "      <td>Greenham Trading Ltd</td>\n",
       "      <td>2200033380</td>\n",
       "      <td>2019-10-01</td>\n",
       "      <td>2019-06-11</td>\n",
       "      <td>H78340</td>\n",
       "      <td>Health and Safety</td>\n",
       "      <td>Stationery</td>\n",
       "      <td>4706</td>\n",
       "      <td>65.47</td>\n",
       "      <td>Q4,2019</td>\n",
       "      <td>Q2,2019</td>\n",
       "      <td>Q2,2019</td>\n",
       "    </tr>\n",
       "    <tr>\n",
       "      <th>1</th>\n",
       "      <td>LBHF</td>\n",
       "      <td>1242990.0</td>\n",
       "      <td>Cavendish Construction Ltd</td>\n",
       "      <td>2200033385</td>\n",
       "      <td>2019-10-01</td>\n",
       "      <td>2019-08-06</td>\n",
       "      <td>H78255</td>\n",
       "      <td>Repairs and Maintenance</td>\n",
       "      <td>Plan R&amp;M-Rep &amp; Maint</td>\n",
       "      <td>3702</td>\n",
       "      <td>1460.00</td>\n",
       "      <td>Q4,2019</td>\n",
       "      <td>Q3,2019</td>\n",
       "      <td>Q3,2019</td>\n",
       "    </tr>\n",
       "    <tr>\n",
       "      <th>2</th>\n",
       "      <td>LBHF</td>\n",
       "      <td>1242990.0</td>\n",
       "      <td>Cavendish Construction Ltd</td>\n",
       "      <td>2200033379</td>\n",
       "      <td>2019-10-01</td>\n",
       "      <td>2019-08-21</td>\n",
       "      <td>H78255</td>\n",
       "      <td>Repairs and Maintenance</td>\n",
       "      <td>Plan R&amp;M-Rep &amp; Maint</td>\n",
       "      <td>3702</td>\n",
       "      <td>977.90</td>\n",
       "      <td>Q4,2019</td>\n",
       "      <td>Q3,2019</td>\n",
       "      <td>Q3,2019</td>\n",
       "    </tr>\n",
       "    <tr>\n",
       "      <th>3</th>\n",
       "      <td>LBHF</td>\n",
       "      <td>1258559.0</td>\n",
       "      <td>RCKa Limited</td>\n",
       "      <td>2200033426</td>\n",
       "      <td>2019-10-01</td>\n",
       "      <td>2019-08-28</td>\n",
       "      <td>H28139</td>\n",
       "      <td>Nourish</td>\n",
       "      <td>E12:Bldng Maint&amp;Impr</td>\n",
       "      <td>7921</td>\n",
       "      <td>8015.00</td>\n",
       "      <td>Q4,2019</td>\n",
       "      <td>Q3,2019</td>\n",
       "      <td>Q3,2019</td>\n",
       "    </tr>\n",
       "    <tr>\n",
       "      <th>4</th>\n",
       "      <td>LBHF</td>\n",
       "      <td>1237724.0</td>\n",
       "      <td>Askews &amp; Holts Library Service</td>\n",
       "      <td>3110058122</td>\n",
       "      <td>2019-10-01</td>\n",
       "      <td>2019-09-04</td>\n",
       "      <td>H26315</td>\n",
       "      <td>Libraries Content &amp; Resources</td>\n",
       "      <td>Books, DVDs and CDs</td>\n",
       "      <td>4539</td>\n",
       "      <td>110.38</td>\n",
       "      <td>Q4,2019</td>\n",
       "      <td>Q3,2019</td>\n",
       "      <td>Q3,2019</td>\n",
       "    </tr>\n",
       "  </tbody>\n",
       "</table>\n",
       "</div>"
      ],
      "text/plain": [
       "  Organisation  Vendor No                   Supplier Name Document Number  \\\n",
       "0         LBHF  1238143.0            Greenham Trading Ltd      2200033380   \n",
       "1         LBHF  1242990.0      Cavendish Construction Ltd      2200033385   \n",
       "2         LBHF  1242990.0      Cavendish Construction Ltd      2200033379   \n",
       "3         LBHF  1258559.0                    RCKa Limited      2200033426   \n",
       "4         LBHF  1237724.0  Askews & Holts Library Service      3110058122   \n",
       "\n",
       "  Payment Date Invoice Date Cost Centre        Cost Centre Description  \\\n",
       "0   2019-10-01   2019-06-11      H78340              Health and Safety   \n",
       "1   2019-10-01   2019-08-06      H78255        Repairs and Maintenance   \n",
       "2   2019-10-01   2019-08-21      H78255        Repairs and Maintenance   \n",
       "3   2019-10-01   2019-08-28      H28139                        Nourish   \n",
       "4   2019-10-01   2019-09-04      H26315  Libraries Content & Resources   \n",
       "\n",
       "  GL Account description  GL Account Code  Amount (D/C) Payment Quarter  \\\n",
       "0             Stationery             4706         65.47         Q4,2019   \n",
       "1   Plan R&M-Rep & Maint             3702       1460.00         Q4,2019   \n",
       "2   Plan R&M-Rep & Maint             3702        977.90         Q4,2019   \n",
       "3   E12:Bldng Maint&Impr             7921       8015.00         Q4,2019   \n",
       "4    Books, DVDs and CDs             4539        110.38         Q4,2019   \n",
       "\n",
       "  Invoice Quarte Invoice Quarter  \n",
       "0        Q2,2019         Q2,2019  \n",
       "1        Q3,2019         Q3,2019  \n",
       "2        Q3,2019         Q3,2019  \n",
       "3        Q3,2019         Q3,2019  \n",
       "4        Q3,2019         Q3,2019  "
      ]
     },
     "execution_count": 33,
     "metadata": {},
     "output_type": "execute_result"
    }
   ],
   "source": [
    "data['Payment Quarter'] = data['Payment Date'].apply(lambda x: f\"{get_Q(x)}{get_payment_quarter(x)},{get_payment_year(x)}\" )\n",
    "data['Invoice Quarter'] = data['Invoice Date'].apply(lambda x: f\"{get_Q(x)}{get_payment_quarter(x)},{get_payment_year(x)}\" )\n",
    "data.head()"
   ]
  },
  {
   "cell_type": "code",
   "execution_count": 34,
   "metadata": {},
   "outputs": [
    {
     "data": {
      "text/plain": [
       "Q1,2020    28335\n",
       "Q3,2019    27017\n",
       "Q4,2019    26595\n",
       "Q2,2019    25467\n",
       "Q2,2020      421\n",
       "Name: Payment Quarter, dtype: int64"
      ]
     },
     "execution_count": 34,
     "metadata": {},
     "output_type": "execute_result"
    }
   ],
   "source": [
    "data['Payment Quarter'].value_counts()"
   ]
  },
  {
   "cell_type": "code",
   "execution_count": 35,
   "metadata": {},
   "outputs": [
    {
     "data": {
      "text/plain": [
       "Q3,2019    28205\n",
       "Q4,2019    26546\n",
       "Q1,2020    25753\n",
       "Q2,2019    23748\n",
       "Q1,2019     3438\n",
       "Q4,2018      106\n",
       "Q3,2018       12\n",
       "Q1,2018        8\n",
       "Q2,2018        7\n",
       "Q4,2017        6\n",
       "Q3,2017        3\n",
       "Q4,2009        1\n",
       "Q2,2017        1\n",
       "Q4,2010        1\n",
       "Name: Invoice Quarter, dtype: int64"
      ]
     },
     "execution_count": 35,
     "metadata": {},
     "output_type": "execute_result"
    }
   ],
   "source": [
    "data['Invoice Quarter'].value_counts()"
   ]
  },
  {
   "cell_type": "code",
   "execution_count": 37,
   "metadata": {},
   "outputs": [],
   "source": [
    "import ipywidgets as widgets\n",
    "from ipywidgets import interact"
   ]
  },
  {
   "cell_type": "code",
   "execution_count": 54,
   "metadata": {},
   "outputs": [],
   "source": [
    "def show_top(n,qtr):\n",
    "    quart = data[data['Payment Quarter']==qtr]\n",
    "    a=quart.groupby(['Supplier Name','Cost Centre Description','GL Account description']).sum()\n",
    "    a=a.nlargest(int(n),\"Amount (D/C)\")\n",
    "    return a"
   ]
  },
  {
   "cell_type": "code",
   "execution_count": 55,
   "metadata": {},
   "outputs": [
    {
     "data": {
      "application/vnd.jupyter.widget-view+json": {
       "model_id": "4eebab0726214266b15a801e6951c955",
       "version_major": 2,
       "version_minor": 0
      },
      "text/plain": [
       "interactive(children=(Text(value='10', description='n'), Dropdown(description='qtr', options=('Q4,2019', 'Q1,2…"
      ]
     },
     "metadata": {},
     "output_type": "display_data"
    },
    {
     "data": {
      "text/plain": [
       "<function __main__.show_top(n, qtr)>"
      ]
     },
     "execution_count": 55,
     "metadata": {},
     "output_type": "execute_result"
    }
   ],
   "source": [
    "interact(show_top,n=\"10\",qtr=data['Payment Quarter'].unique())"
   ]
  },
  {
   "cell_type": "code",
   "execution_count": null,
   "metadata": {},
   "outputs": [],
   "source": []
  }
 ],
 "metadata": {
  "kernelspec": {
   "display_name": "Python 3",
   "language": "python",
   "name": "python3"
  },
  "language_info": {
   "codemirror_mode": {
    "name": "ipython",
    "version": 3
   },
   "file_extension": ".py",
   "mimetype": "text/x-python",
   "name": "python",
   "nbconvert_exporter": "python",
   "pygments_lexer": "ipython3",
   "version": "3.8.5"
  }
 },
 "nbformat": 4,
 "nbformat_minor": 4
}
